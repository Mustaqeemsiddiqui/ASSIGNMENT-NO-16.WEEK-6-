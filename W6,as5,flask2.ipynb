{
 "cells": [
  {
   "cell_type": "markdown",
   "id": "9a3ce520-7780-4ca2-afb9-fab7b9cebe75",
   "metadata": {},
   "source": [
    "Q1. Explain GET and POST methods."
   ]
  },
  {
   "cell_type": "markdown",
   "id": "c8163266-4881-4304-b5ac-4f988dc6b84c",
   "metadata": {},
   "source": [
    "Ans:---\n",
    "\n",
    "In simple words,The GET method is used to retrieve data from a server, and the data is sent in the URL's query string whereas The POST method is used to submit data to a server and sends the data in the request body.\n",
    "\n",
    "\n",
    "**GET Method**:\n",
    "\n",
    "1)Used to request data from a server.\n",
    "\n",
    "2)Data is sent in the URL's query string.\n",
    "\n",
    "3)Idempotent (repeating the request doesn't change the server's state).\n",
    "\n",
    "4)Data is visible in the URL.\n",
    "\n",
    "5)Suitable for retrieving data and sharing links.\n",
    "\n",
    "GET /search?q=example HTTP/1.1\n",
    "Host: www.example.com\n",
    "This request fetches data based on the search query example.\n",
    "\n",
    "\n",
    "**POST Method**:\n",
    "\n",
    "1)Used to submit data to a server for processing.\n",
    "\n",
    "2)Data is sent in the request body.\n",
    "\n",
    "3)Non-idempotent (repeating the request may cause different outcomes).\n",
    "\n",
    "4)More secure for sending sensitive data.\n",
    "\n",
    "5)Suitable for form submissions and data processing.\n",
    "\n",
    "POST /submit-form HTTP/1.1\n",
    "Host: www.example.com\n",
    "Content-Type: application/x-www-form-urlencoded\n",
    "\n",
    "name=John&age=30\n",
    "\n",
    "This request submits form data containing name and age parameters to be processed by the server."
   ]
  },
  {
   "cell_type": "markdown",
   "id": "f88f392e-5274-43ea-8983-405200d6b11a",
   "metadata": {},
   "source": [
    "Q2. Why is request used in Flask?"
   ]
  },
  {
   "cell_type": "markdown",
   "id": "315e6ee6-baff-4ffa-8c8a-24c0f8f5dabc",
   "metadata": {},
   "source": [
    "Ans:---\n",
    "\n",
    "**request** is used in Flask to access incoming request data from clients. It allows us to retrieve form data, query parameters, files, cookies, and other request-related information, enabling us to handle user input and create dynamic web applications.\n",
    " \n",
    "**Reasons** why \"request\" used in flask:\n",
    "\n",
    "**(1)**Accessing Data Sent by the Client\n",
    "\n",
    "1)Form Data:\n",
    "\n",
    "When a client submits a form using POST, the form data can be accessed via request.form.\n",
    "\n",
    "from flask import request\n",
    "\n",
    "@app.route('/submit', methods=['POST'])\n",
    "def submit():\n",
    "    name = request.form['name']\n",
    "    email = request.form['email']\n",
    "    return f'Name: {name}, Email: {email}'\n",
    "    \n",
    "2)Query Parameters:\n",
    "\n",
    "For data sent via the URL (GET request), query parameters can be accessed using request.args.\n",
    "@app.route('/search')\n",
    "def search():\n",
    "    query = request.args.get('q')\n",
    "    return f'Search query: {query}'\n",
    "\n",
    "3)JSON Data:\n",
    "\n",
    "If the client sends JSON data in a POST request, it can be accessed using request.json.\n",
    "\n",
    "@app.route('/api/data', methods=['POST'])\n",
    "def api_data():\n",
    "    data = request.json\n",
    "    return f'Received data: {data}'\n",
    "\n",
    "4)File Uploads:\n",
    "\n",
    "Files uploaded by the client can be accessed using request.files.\n",
    "\n",
    "@app.route('/upload', methods=['POST'])\n",
    "def upload_file():\n",
    "    file = request.files['file']\n",
    "    file.save(f'/path/to/save/{file.filename}')\n",
    "    return 'File uploaded successfully'\n",
    "\n",
    "**(2)**Accessing Request Metadata\n",
    "\n",
    "1)Request Headers:\n",
    "\n",
    "You can access the headers sent by the client using request.headers.\n",
    "\n",
    "@app.route('/headers')\n",
    "def headers():\n",
    "    user_agent = request.headers.get('User-Agent')\n",
    "    return f'User-Agent: {user_agent}'\n",
    "\n",
    "2)Request Method:\n",
    "\n",
    "Determine the HTTP method (GET, POST, etc.) used by the client with request.method.\n",
    "\n",
    "@app.route('/method', methods=['GET', 'POST'])\n",
    "def method():\n",
    "    if request.method == 'POST':\n",
    "        return 'This is a POST request'\n",
    "    return 'This is a GET request'\n",
    "\n",
    "3)Cookies:\n",
    "\n",
    "Access cookies sent by the client using request.cookies.\n",
    "\n",
    "@app.route('/cookies')\n",
    "def cookies():\n",
    "    username = request.cookies.get('username')\n",
    "    return f'Username cookie: {username}'\n",
    "\n",
    "**(3)** The request object helps handle various content types by providing appropriate attributes and methods to parse and retrieve the data sent by the client.\n",
    "\n",
    "\n",
    "**(4)**The request object is part of Flask's context variables, which means it is available globally within a request context without the need to pass it explicitly to functions and templates.\n",
    "\n",
    "there are multiple use of flask"
   ]
  },
  {
   "cell_type": "markdown",
   "id": "c801a49c-3818-4759-bb87-778bc8ab3470",
   "metadata": {},
   "source": [
    "Q3. Why is redirect() used in Flask?"
   ]
  },
  {
   "cell_type": "markdown",
   "id": "6861ab7f-a6a6-49d0-b405-d99a8f7ca76c",
   "metadata": {},
   "source": [
    "Ans:---\n",
    "\n",
    "**redirect()** is used in Flask to send a HTTP redirect response, guiding the client's browser to a different URL within the application or to an external URL. It is commonly used for handling form submissions, implementing the Post/Redirect/Get pattern, managing authentication, and redirecting users to other pages or external websites.\n"
   ]
  },
  {
   "cell_type": "markdown",
   "id": "81b82a15-9f1f-474c-af7b-4da1cb9cbc78",
   "metadata": {},
   "source": [
    "Q4. What are templates in Flask? Why is the render_template() function used?"
   ]
  },
  {
   "cell_type": "markdown",
   "id": "f0a2873b-f204-4ae7-a861-85c91fd34679",
   "metadata": {},
   "source": [
    "Ans:---\n",
    "\n",
    "In Flask, templates are used to separate the presentation logic (HTML, CSS, and some dynamic elements) from the application logic (Python code). Templates allow us to build dynamic web pages by combining static content with dynamic data. This separation of concerns makes our code more organized, maintainable, and easier to work with.\n",
    "\n",
    "The **render_template()** function in Flask is used to render these templates with dynamic data. It takes the template filename and any necessary data as input and generates the final HTML page that is sent to the client's browser. This separation of concerns and dynamic content generation make web development in Flask more organized and maintainable.\n"
   ]
  },
  {
   "cell_type": "markdown",
   "id": "03325ca8-dda5-4a82-8f42-89821a15ee57",
   "metadata": {},
   "source": [
    "Q5. Create a simple API. Use Postman to test it. Attach the screenshot of the output in the Jupyter Notebook."
   ]
  },
  {
   "cell_type": "markdown",
   "id": "5d044b68-d1e8-46e6-9eb2-b007ca705d07",
   "metadata": {},
   "source": [
    "![Screenshot](Screenshot(13).png)"
   ]
  },
  {
   "cell_type": "markdown",
   "id": "ba7471f1-19c7-43e2-8ede-09f500bf2029",
   "metadata": {},
   "source": [
    "![Screenshot](Screenshot(14).png)"
   ]
  },
  {
   "cell_type": "code",
   "execution_count": null,
   "id": "0ac4ab13-6f41-4aff-b27c-15cd0572232e",
   "metadata": {},
   "outputs": [],
   "source": []
  }
 ],
 "metadata": {
  "kernelspec": {
   "display_name": "Python 3 (ipykernel)",
   "language": "python",
   "name": "python3"
  },
  "language_info": {
   "codemirror_mode": {
    "name": "ipython",
    "version": 3
   },
   "file_extension": ".py",
   "mimetype": "text/x-python",
   "name": "python",
   "nbconvert_exporter": "python",
   "pygments_lexer": "ipython3",
   "version": "3.10.8"
  }
 },
 "nbformat": 4,
 "nbformat_minor": 5
}
